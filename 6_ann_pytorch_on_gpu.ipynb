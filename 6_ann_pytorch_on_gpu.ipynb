{
 "cells": [
  {
   "cell_type": "markdown",
   "metadata": {},
   "source": [
    "#### ANN implementation on mnist dataset using python"
   ]
  },
  {
   "cell_type": "code",
   "execution_count": 1,
   "metadata": {},
   "outputs": [],
   "source": [
    "import pandas as pd\n",
    "import torch\n",
    "import torch.nn as nn\n",
    "import torch.optim as optim\n",
    "from torch.utils.data import DataLoader, Dataset\n",
    "from torchvision import datasets, transforms\n",
    "from sklearn.model_selection import train_test_split\n",
    "from sklearn.metrics import accuracy_score, classification_report, confusion_matrix\n",
    "import warnings\n",
    "warnings.filterwarnings(\"ignore\")"
   ]
  },
  {
   "cell_type": "markdown",
   "metadata": {},
   "source": [
    "We are directly reading the mnist dataset from the torchvsion's dataset module. This will return a dataset object which can directly be passed to DataLoader. It will however retrun a tensor of shape that replicates an image i.e 2-D"
   ]
  },
  {
   "cell_type": "code",
   "execution_count": 2,
   "metadata": {},
   "outputs": [],
   "source": [
    "# Define a transformation to convert images to PyTorch tensors\n",
    "transform = transforms.ToTensor()\n",
    "\n",
    "# Load the Fashion MNIST training dataset\n",
    "train_data = datasets.FashionMNIST(\n",
    "    root='./data',  # Directory to store the dataset\n",
    "    train=True,     # Specify this is the training set\n",
    "    download=True,  # Download the dataset if not already present\n",
    "    transform=transform\n",
    ")\n",
    "\n",
    "# Load the Fashion MNIST test dataset\n",
    "test_data = datasets.FashionMNIST(\n",
    "    root='./data',  # Directory to store the dataset\n",
    "    train=False,    # Specify this is the test set\n",
    "    download=True,  # Download the dataset if not already present\n",
    "    transform=transform\n",
    ")\n"
   ]
  },
  {
   "cell_type": "markdown",
   "metadata": {},
   "source": [
    "Passing the fashion mnist dataset object into DataLoader."
   ]
  },
  {
   "cell_type": "code",
   "execution_count": 3,
   "metadata": {},
   "outputs": [],
   "source": [
    "train_dataloader = DataLoader(train_data, batch_size=256, shuffle=True, num_workers=0)\n",
    "test_dataloader = DataLoader(test_data, batch_size=256, shuffle=False)\n"
   ]
  },
  {
   "cell_type": "markdown",
   "metadata": {},
   "source": [
    "ANN model structure"
   ]
  },
  {
   "cell_type": "code",
   "execution_count": 4,
   "metadata": {},
   "outputs": [],
   "source": [
    "class my_ann(nn.Module):\n",
    "    def __init__(self, num_features):\n",
    "        super().__init__()\n",
    "        self.network = nn.Sequential(\n",
    "            nn.Flatten(),\n",
    "            nn.Linear(num_features, 128),\n",
    "            nn.BatchNorm1d(128),\n",
    "            nn.ReLU(),\n",
    "            nn.Dropout(0.2),\n",
    "            nn.Linear(128,64),\n",
    "            nn.BatchNorm1d(64),\n",
    "            nn.ReLU(),\n",
    "            nn.Dropout(0.2),\n",
    "            nn.Linear(64, 10),\n",
    "            nn.Softmax()\n",
    "        )\n",
    "    \n",
    "    def forward(self, x):\n",
    "        return self.network(x)\n"
   ]
  },
  {
   "cell_type": "markdown",
   "metadata": {},
   "source": [
    "creating a model object and transfering the model to gpu."
   ]
  },
  {
   "cell_type": "code",
   "execution_count": 5,
   "metadata": {},
   "outputs": [],
   "source": [
    "num_features = train_data[0][0].view(-1).shape[0]\n",
    "model = my_ann(num_features)\n",
    "\n",
    "device = torch.device(\"mps\") if torch.backends.mps.is_available() else torch.device(\"cpu\")\n",
    "\n",
    "# print(f\"Using device: {device}\")\n",
    "# model.to(device)"
   ]
  },
  {
   "cell_type": "markdown",
   "metadata": {},
   "source": [
    "Training the model"
   ]
  },
  {
   "cell_type": "code",
   "execution_count": 6,
   "metadata": {},
   "outputs": [
    {
     "name": "stdout",
     "output_type": "stream",
     "text": [
      "Epoch 1/100, Loss: 1.5954\n",
      "Epoch 11/100, Loss: 1.6087\n",
      "Epoch 21/100, Loss: 1.7088\n",
      "Epoch 31/100, Loss: 1.6309\n",
      "Epoch 41/100, Loss: 1.6562\n",
      "Epoch 51/100, Loss: 1.5917\n",
      "Epoch 61/100, Loss: 1.5574\n",
      "Epoch 71/100, Loss: 1.6582\n",
      "Epoch 81/100, Loss: 1.5983\n",
      "Epoch 91/100, Loss: 1.5859\n"
     ]
    }
   ],
   "source": [
    "epochs = 100\n",
    "optimizer = optim.Adam(model.parameters(), lr=0.01, weight_decay=1e-4)\n",
    "loss_fn = nn.CrossEntropyLoss()\n",
    "\n",
    "for epoch in range(epochs):\n",
    "    for batch_features, batch_labels in train_dataloader:\n",
    "        \n",
    "        # batch_features, batch_labels = batch_features.to(device), batch_labels.to(device)\n",
    "        y_pred = model(batch_features)\n",
    "        optimizer.zero_grad()\n",
    "        loss = loss_fn(y_pred, batch_labels)\n",
    "        loss.backward()\n",
    "        optimizer.step()\n",
    "\n",
    "        torch.mps.empty_cache()\n",
    "    \n",
    "    if epoch%10 == 0:\n",
    "        print(f\"Epoch {epoch+1}/{epochs}, Loss: {loss.item():.4f}\")\n",
    "    \n"
   ]
  },
  {
   "cell_type": "markdown",
   "metadata": {},
   "source": [
    "Model evaluation"
   ]
  },
  {
   "cell_type": "code",
   "execution_count": 7,
   "metadata": {},
   "outputs": [
    {
     "name": "stdout",
     "output_type": "stream",
     "text": [
      "Average Test Accuracy: 0.8236\n"
     ]
    }
   ],
   "source": [
    "model.eval()\n",
    "\n",
    "accuracy_list = []\n",
    "for batch_features, batch_labels in test_dataloader:\n",
    "    # batch_features, batch_labels = batch_features.to(device), batch_labels.to(device)\n",
    "    y_pred = model(batch_features)\n",
    "    _, predicted = torch.max(y_pred, 1)\n",
    "    accuracy = accuracy_score(batch_labels.numpy(), predicted.numpy())\n",
    "    accuracy_list.append(accuracy)\n",
    "average_accuracy = sum(accuracy_list) / len(accuracy_list)\n",
    "print(f\"Average Test Accuracy: {average_accuracy:.4f}\")\n",
    "    \n"
   ]
  },
  {
   "cell_type": "code",
   "execution_count": 8,
   "metadata": {},
   "outputs": [
    {
     "name": "stdout",
     "output_type": "stream",
     "text": [
      "Average Train Accuracy: 0.8338\n"
     ]
    }
   ],
   "source": [
    "# model.eval()\n",
    "\n",
    "accuracy_list = []\n",
    "for batch_features, batch_labels in train_dataloader:\n",
    "    # batch_features, batch_labels = batch_features.to(device), batch_labels.to(device)\n",
    "    y_pred = model(batch_features)\n",
    "    _, predicted = torch.max(y_pred, 1)\n",
    "    accuracy = accuracy_score(batch_labels.numpy(), predicted.numpy())\n",
    "    accuracy_list.append(accuracy)\n",
    "average_accuracy = sum(accuracy_list) / len(accuracy_list)\n",
    "print(f\"Average Train Accuracy: {average_accuracy:.4f}\")\n",
    "    \n"
   ]
  },
  {
   "cell_type": "code",
   "execution_count": null,
   "metadata": {},
   "outputs": [],
   "source": []
  }
 ],
 "metadata": {
  "kernelspec": {
   "display_name": "base",
   "language": "python",
   "name": "python3"
  },
  "language_info": {
   "codemirror_mode": {
    "name": "ipython",
    "version": 3
   },
   "file_extension": ".py",
   "mimetype": "text/x-python",
   "name": "python",
   "nbconvert_exporter": "python",
   "pygments_lexer": "ipython3",
   "version": "3.12.2"
  }
 },
 "nbformat": 4,
 "nbformat_minor": 2
}
