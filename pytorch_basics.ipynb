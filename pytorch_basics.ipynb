{
 "cells": [
  {
   "cell_type": "markdown",
   "metadata": {},
   "source": [
    "#### Tensor"
   ]
  },
  {
   "cell_type": "markdown",
   "metadata": {},
   "source": [
    "Tensor is a specialized multi dimentional array designed for multi dimentional computation   \n",
    "Dimensions:  \n",
    "1. Scaler  \n",
    "2. vector(one dimentional tensor)  \n",
    "3. two dimentional tensor  \n",
    "   e.g. 2-D Images  \n",
    "4. three dimensional tensor  \n",
    "   e.g. 3-D Images i.e. colored image  \n",
    "5. n dimentional tensor"
   ]
  },
  {
   "cell_type": "code",
   "execution_count": 4,
   "metadata": {},
   "outputs": [],
   "source": [
    "import torch"
   ]
  },
  {
   "cell_type": "code",
   "execution_count": 8,
   "metadata": {},
   "outputs": [
    {
     "name": "stdout",
     "output_type": "stream",
     "text": [
      "tensor(1)\n",
      "tensor([1, 2, 3])\n",
      "tensor([[1, 2, 3],\n",
      "        [4, 5, 6]])\n",
      "tensor([[[1, 2],\n",
      "         [3, 4]],\n",
      "\n",
      "        [[5, 6],\n",
      "         [7, 8]]])\n"
     ]
    }
   ],
   "source": [
    " #creating a tensor\n",
    "\n",
    "#scalar tensor\n",
    "x = torch.tensor(1)\n",
    "print(x)\n",
    "\n",
    "#vector tensor\n",
    "x = torch.tensor([1, 2, 3])\n",
    "print(x)\n",
    "\n",
    "#matrix tensor\n",
    "x = torch.tensor([[1, 2, 3], [4, 5, 6]])\n",
    "print(x)\n",
    "\n",
    "#3D tensor\n",
    "x = torch.tensor([[[1, 2], [3, 4]],\n",
    "                 [[5, 6], [7, 8]]])\n",
    "print(x)"
   ]
  },
  {
   "cell_type": "code",
   "execution_count": 11,
   "metadata": {},
   "outputs": [
    {
     "name": "stdout",
     "output_type": "stream",
     "text": [
      "tensor([[0., 0., 0.],\n",
      "        [0., 0., 0.]])\n",
      "torch.Size([2, 3])\n"
     ]
    }
   ],
   "source": [
    "#zeroes\n",
    "x = torch.zeros(2, 3)\n",
    "print(x)\n",
    "print(x.shape)"
   ]
  },
  {
   "cell_type": "code",
   "execution_count": 12,
   "metadata": {},
   "outputs": [
    {
     "name": "stdout",
     "output_type": "stream",
     "text": [
      "tensor([[0.5641, 0.0623, 0.6716],\n",
      "        [0.0046, 0.7974, 0.8650]])\n"
     ]
    }
   ],
   "source": [
    "#random tensor\n",
    "x = torch.rand(2, 3)\n",
    "print(x)"
   ]
  },
  {
   "cell_type": "code",
   "execution_count": 14,
   "metadata": {},
   "outputs": [
    {
     "name": "stdout",
     "output_type": "stream",
     "text": [
      "tensor([0, 2, 4, 6, 8])\n",
      "tensor([ 0.0000,  2.5000,  5.0000,  7.5000, 10.0000])\n",
      "tensor([[1., 0., 0.],\n",
      "        [0., 1., 0.],\n",
      "        [0., 0., 1.]])\n",
      "tensor([[1., 1., 1.],\n",
      "        [1., 1., 1.]])\n",
      "tensor([[7, 7, 7],\n",
      "        [7, 7, 7]])\n"
     ]
    }
   ],
   "source": [
    "#arange\n",
    "print(torch.arange(0, 10, 2))  # start, end, step\n",
    "#linspace\n",
    "print(torch.linspace(0, 10, steps=5))  # start, end, steps\n",
    "#eye\n",
    "print(torch.eye(3))  # creates a 3x3 identity matrix\n",
    "#ones\n",
    "print(torch.ones(2, 3))  # creates a 2x3 tensor filled with ones\n",
    "#full\n",
    "print(torch.full((2, 3), 7))  # creates a 2x3 tensor filled with the value 7"
   ]
  },
  {
   "cell_type": "code",
   "execution_count": 16,
   "metadata": {},
   "outputs": [
    {
     "name": "stdout",
     "output_type": "stream",
     "text": [
      "tensor([[0, 0, 0],\n",
      "        [0, 0, 0]])\n",
      "tensor([[0, 0, 0],\n",
      "        [0, 0, 0]])\n"
     ]
    }
   ],
   "source": [
    "x = torch.tensor([[1, 2, 3], [4, 5, 6]])\n",
    "y = torch.empty_like(x)\n",
    "print(y)\n",
    "z = torch.zeros_like(x)\n",
    "print(z)"
   ]
  },
  {
   "cell_type": "code",
   "execution_count": 18,
   "metadata": {},
   "outputs": [
    {
     "name": "stdout",
     "output_type": "stream",
     "text": [
      "tensor([[1, 2],\n",
      "        [3, 4]])\n",
      "tensor([[3, 4],\n",
      "        [5, 6]])\n",
      "tensor([[2, 4],\n",
      "        [6, 8]])\n",
      "tensor([[-1,  0],\n",
      "        [ 1,  2]])\n",
      "tensor([[0, 0],\n",
      "        [0, 0]])\n",
      "tensor([[2, 4],\n",
      "        [6, 8]])\n",
      "tensor([[ 1,  4],\n",
      "        [ 9, 16]])\n"
     ]
    }
   ],
   "source": [
    "#tesnor operations\n",
    "\n",
    "#addition\n",
    "x = torch.tensor([[1, 2], [3, 4]])\n",
    "print(x)\n",
    "\n",
    "print(x + 2)  # adding a scalar\n",
    "print(x + x)  # adding a tensor\n",
    "\n",
    "#subtraction\n",
    "print(x - 2)  # subtracting a scalar\n",
    "print(x - x)  # subtracting a tensor\n",
    "\n",
    "#multiplication\n",
    "print(x * 2)  # multiplying by a scalar\n",
    "print(x * x)  # element-wise multiplication\n"
   ]
  },
  {
   "cell_type": "code",
   "execution_count": 20,
   "metadata": {},
   "outputs": [
    {
     "name": "stdout",
     "output_type": "stream",
     "text": [
      "tensor([[1, 2, 3],\n",
      "        [4, 5, 6]])\n",
      "tensor(21)\n",
      "tensor([5, 7, 9])\n",
      "tensor([ 6, 15])\n"
     ]
    }
   ],
   "source": [
    "#Reduction operations\n",
    "\n",
    "x= torch.tensor([[1, 2, 3], [4, 5, 6]])\n",
    "print(x)\n",
    "\n",
    "#sum\n",
    "print(torch.sum(x))  # sum of all elements\n",
    "print(torch.sum(x, dim=0))  # sum along rows\n",
    "print(torch.sum(x, dim=1))  # sum along columns"
   ]
  },
  {
   "cell_type": "code",
   "execution_count": 22,
   "metadata": {},
   "outputs": [
    {
     "name": "stdout",
     "output_type": "stream",
     "text": [
      "tensor(1)\n",
      "tensor(6)\n"
     ]
    }
   ],
   "source": [
    "#min\n",
    "print(torch.min(x))  # minimum value\n",
    "print(torch.max(x))  # maximum value"
   ]
  },
  {
   "cell_type": "code",
   "execution_count": 29,
   "metadata": {},
   "outputs": [
    {
     "name": "stdout",
     "output_type": "stream",
     "text": [
      "tensor([[1, 2],\n",
      "        [3, 4]])\n",
      "tensor([[5, 6],\n",
      "        [7, 8]])\n",
      "tensor([[19, 22],\n",
      "        [43, 50]])\n",
      "tensor([[19, 22],\n",
      "        [43, 50]])\n",
      "tensor(17)\n",
      "tensor([[1, 3],\n",
      "        [2, 4]])\n"
     ]
    }
   ],
   "source": [
    "#matrix operations\n",
    "x = torch.tensor([[1, 2], [3, 4]])\n",
    "y = torch.tensor([[5, 6], [7, 8]])\n",
    "print(x)\n",
    "print(y)\n",
    "\n",
    "#matrix multiplication\n",
    "print(torch.matmul(x, y))  # matrix multiplication\n",
    "print(x @ y)  # using the @ operator for matrix multiplication\n",
    "\n",
    "#dot product\n",
    "print(torch.dot(x[0], y[0]))  # dot product of the first row of x and y\n",
    "\n",
    "#transpose\n",
    "print(x.T)  # transpose of a matrix\n"
   ]
  },
  {
   "cell_type": "code",
   "execution_count": 32,
   "metadata": {},
   "outputs": [
    {
     "name": "stdout",
     "output_type": "stream",
     "text": [
      "tensor([[2., 1., 5.],\n",
      "        [8., 7., 5.]])\n",
      "tensor([[0.6931, 0.0000, 1.6094],\n",
      "        [2.0794, 1.9459, 1.6094]])\n",
      "tensor([[7.3891e+00, 2.7183e+00, 1.4841e+02],\n",
      "        [2.9810e+03, 1.0966e+03, 1.4841e+02]])\n",
      "tensor([[0.8808, 0.7311, 0.9933],\n",
      "        [0.9997, 0.9991, 0.9933]])\n",
      "tensor([[0.0025, 0.0025, 0.5000],\n",
      "        [0.9975, 0.9975, 0.5000]])\n"
     ]
    }
   ],
   "source": [
    "x = torch.randint(size = (2, 3), low=1, high=10, dtype=torch.float32)\n",
    "print(x)\n",
    "\n",
    "#log\n",
    "print(torch.log(x))  # natural logarithm\n",
    "\n",
    "#exponential\n",
    "print(torch.exp(x))  # exponential function\n",
    "\n",
    "#sigmoid\n",
    "print(torch.sigmoid(x))  # sigmoid function\n",
    "\n",
    "#softmax\n",
    "print(torch.softmax(x, dim=0))  # softmax along the specified dimension"
   ]
  },
  {
   "cell_type": "code",
   "execution_count": 44,
   "metadata": {},
   "outputs": [
    {
     "name": "stdout",
     "output_type": "stream",
     "text": [
      "MPS device available!\n",
      "Time taken for matrix multiplication on mps: 0.062923 seconds\n",
      "Time taken for matrix multiplication on cpu: 6.200946 seconds\n"
     ]
    }
   ],
   "source": [
    "#tensor operations on cpu vs gpu\n",
    "if torch.backends.mps.is_available():\n",
    "    device = torch.device(\"mps\")\n",
    "    print(\"MPS device available!\")\n",
    "else:\n",
    "    device = torch.device(\"cpu\")\n",
    "    print(\"MPS not available, using CPU.\")\n",
    "    \n",
    "n = 15000\n",
    "\n",
    "x = torch.randn(n, n, device=device)\n",
    "y = torch.randn(n, n, device=device)\n",
    "\n",
    "a = torch.randn(n, n)\n",
    "b = torch.randn(n, n)\n",
    "\n",
    "import time\n",
    "start_time = time.time()\n",
    "torch.mps.synchronize()\n",
    "result = x @ y\n",
    "end_time = time.time()\n",
    "print(f\"Time taken for matrix multiplication on {device}: {end_time - start_time:.6f} seconds\")\n",
    "\n",
    "start_time = time.time()\n",
    "result = a @ b\n",
    "end_time = time.time()\n",
    "print(f\"Time taken for matrix multiplication on cpu: {end_time - start_time:.6f} seconds\")\n",
    "\n"
   ]
  },
  {
   "cell_type": "code",
   "execution_count": null,
   "metadata": {},
   "outputs": [],
   "source": []
  }
 ],
 "metadata": {
  "kernelspec": {
   "display_name": "base",
   "language": "python",
   "name": "python3"
  },
  "language_info": {
   "codemirror_mode": {
    "name": "ipython",
    "version": 3
   },
   "file_extension": ".py",
   "mimetype": "text/x-python",
   "name": "python",
   "nbconvert_exporter": "python",
   "pygments_lexer": "ipython3",
   "version": "3.12.2"
  }
 },
 "nbformat": 4,
 "nbformat_minor": 2
}
