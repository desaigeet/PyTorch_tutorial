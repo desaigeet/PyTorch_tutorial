{
 "cells": [
  {
   "cell_type": "markdown",
   "metadata": {},
   "source": [
    "#### Autograd  \n",
    "\n"
   ]
  },
  {
   "cell_type": "markdown",
   "metadata": {},
   "source": [
    "Autograd is a pytorch component that provides automatic differentiation. It enables gradient computation which is an important as pect of backpropogation in deep learning."
   ]
  },
  {
   "cell_type": "code",
   "execution_count": 2,
   "metadata": {},
   "outputs": [],
   "source": [
    "import torch"
   ]
  },
  {
   "cell_type": "code",
   "execution_count": 3,
   "metadata": {},
   "outputs": [
    {
     "name": "stdout",
     "output_type": "stream",
     "text": [
      "tensor(10.)\n"
     ]
    }
   ],
   "source": [
    "x = torch.tensor(5.0, requires_grad=True) # Create a tensor with gradient tracking enabled\n",
    "y = x ** 2 # Define a simple function y = x^2\n",
    "y.backward() # Compute the gradient of y with respect to x\n",
    "print(x.grad) # Print the gradient of y with respect to x\n"
   ]
  },
  {
   "cell_type": "code",
   "execution_count": 4,
   "metadata": {},
   "outputs": [
    {
     "name": "stdout",
     "output_type": "stream",
     "text": [
      "tensor(9.9120)\n"
     ]
    }
   ],
   "source": [
    "x = torch.tensor(5.0, requires_grad=True) # Create another tensor with gradient tracking enabled\n",
    "y = x ** 2\n",
    "z = torch.sin(y)\n",
    "z.backward()\n",
    "print(x.grad)"
   ]
  },
  {
   "cell_type": "markdown",
   "metadata": {},
   "source": [
    "Autograd in neural network"
   ]
  },
  {
   "cell_type": "code",
   "execution_count": 5,
   "metadata": {},
   "outputs": [
    {
     "name": "stdout",
     "output_type": "stream",
     "text": [
      "Weight: tensor([0.4249], requires_grad=True), Bias: tensor([0.3562], requires_grad=True)\n"
     ]
    }
   ],
   "source": [
    "x = torch.tensor(5.0, requires_grad=True)\n",
    "w = torch.rand(1 , requires_grad=True)\n",
    "b = torch.rand(1, requires_grad=True)\n",
    "print(f\"Weight: {w}, Bias: {b}\")\n"
   ]
  },
  {
   "cell_type": "code",
   "execution_count": 6,
   "metadata": {},
   "outputs": [
    {
     "name": "stdout",
     "output_type": "stream",
     "text": [
      "Gradient of weight: tensor([-0.3861]), Gradient of bias: tensor([-0.0772])\n"
     ]
    }
   ],
   "source": [
    "#forward pass\n",
    "x = w * x + b\n",
    "y_pred = torch.sigmoid(x)\n",
    "\n",
    "#backward pass\n",
    "def loss_fn(prediction, target):\n",
    "    return -(target * torch.log(prediction) + (1 - target) * torch.log(1 - prediction))\n",
    "\n",
    "loss = loss_fn(y_pred, torch.tensor(1.0))  # Assuming target is 1.0\n",
    "loss.backward()  # Compute gradients\n",
    "print(f\"Gradient of weight: {w.grad}, Gradient of bias: {b.grad}\")\n"
   ]
  },
  {
   "cell_type": "markdown",
   "metadata": {},
   "source": [
    "#### Clearing Gradients"
   ]
  },
  {
   "cell_type": "markdown",
   "metadata": {},
   "source": [
    "Gradients starts accumulating on multiple gradient calculations which poses a problem. THerefore we need to clear the gradients. "
   ]
  },
  {
   "cell_type": "code",
   "execution_count": 9,
   "metadata": {},
   "outputs": [
    {
     "name": "stdout",
     "output_type": "stream",
     "text": [
      "Gradient of y with respect to x: 6.0\n"
     ]
    }
   ],
   "source": [
    "x = torch.tensor(3.0, requires_grad=True)\n",
    "\n",
    "y = x ** 2\n",
    "y.backward()  # Compute the gradient of y with respect to x\n",
    "\n",
    "print(f\"Gradient of y with respect to x: {x.grad}\")"
   ]
  },
  {
   "cell_type": "code",
   "execution_count": 10,
   "metadata": {},
   "outputs": [
    {
     "name": "stdout",
     "output_type": "stream",
     "text": [
      "Gradient of y with respect to x: 12.0\n"
     ]
    }
   ],
   "source": [
    "#Comupting the gradient again wrt to x without clearing the gradient will give a different value \n",
    "y = x ** 2\n",
    "y.backward()  \n",
    "\n",
    "print(f\"Gradient of y with respect to x: {x.grad}\")"
   ]
  },
  {
   "cell_type": "code",
   "execution_count": 11,
   "metadata": {},
   "outputs": [
    {
     "name": "stdout",
     "output_type": "stream",
     "text": [
      "Gradient of y with respect to x after clearing: 6.0\n"
     ]
    }
   ],
   "source": [
    "#We therefore clear the gradient before computing it again\n",
    "x.grad.zero_()  # Clear the gradient\n",
    "y = x ** 2\n",
    "y.backward()  # Compute the gradient again\n",
    "print(f\"Gradient of y with respect to x after clearing: {x.grad}\")"
   ]
  }
 ],
 "metadata": {
  "kernelspec": {
   "display_name": "base",
   "language": "python",
   "name": "python3"
  },
  "language_info": {
   "codemirror_mode": {
    "name": "ipython",
    "version": 3
   },
   "file_extension": ".py",
   "mimetype": "text/x-python",
   "name": "python",
   "nbconvert_exporter": "python",
   "pygments_lexer": "ipython3",
   "version": "3.12.2"
  }
 },
 "nbformat": 4,
 "nbformat_minor": 2
}
